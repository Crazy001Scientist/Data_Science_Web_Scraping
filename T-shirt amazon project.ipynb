{
 "cells": [
  {
   "cell_type": "code",
   "execution_count": 53,
   "id": "7368b313",
   "metadata": {},
   "outputs": [],
   "source": [
    "from bs4 import BeautifulSoup\n",
    "import requests\n",
    "import smtplib\n",
    "import time\n",
    "import datetime\n",
    "import csv\n",
    "import pandas as pd"
   ]
  },
  {
   "cell_type": "code",
   "execution_count": 54,
   "id": "70f0839b",
   "metadata": {},
   "outputs": [],
   "source": [
    "URL = \"https://www.amazon.com/Disney-Donald-T-Shirt-Heather-Large/dp/B07G4N6PPJ/ref=sr_1_7?crid=2CNRR17G9C8BY&keywords=t-shirts%2Bgraphic&qid=1672226537&sprefix=t-shirt%2Caps%2C627&sr=8-7&th=1\"\n",
    "\n",
    "headers = {\"User-Agent\": \"Mozilla/5.0 (Windows NT 10.0; Win64; x64) AppleWebKit/537.36 (KHTML, like Gecko) Chrome/108.0.0.0 Safari/537.36\", \"Accept-Encoding\": \"gzip, deflate, br\", \"Accept\": \"text/html,application/xhtml+xml,application/xml;q=0.9,image/avif,image/webp,image/apng,*/*;q=0.8,application/signed-exchange;v=b3;q=0.9\",\"DNT\":\"1\", \"Connection\":\"close\", \"Upgrade-Insecure-Requests\":\"1\"}\n",
    "\n",
    "page = requests.get(URL, headers = headers)\n",
    "\n",
    "soup1 = BeautifulSoup(page.content, \"html.parser\")\n",
    "\n",
    "soup2 = BeautifulSoup(soup1.prettify(), \"html.parser\")\n",
    "\n",
    "title = soup2.find(id = \"productTitle\").get_text()\n",
    "\n",
    "price = soup2.find(id = \"corePrice_desktop\").get_text()"
   ]
  },
  {
   "cell_type": "code",
   "execution_count": 55,
   "id": "1568b489",
   "metadata": {},
   "outputs": [],
   "source": [
    "def remove(string):\n",
    "    return \"\".join(string.split())\n",
    "      \n",
    "price = (remove(price))\n",
    "\n",
    "title = title.strip()"
   ]
  },
  {
   "cell_type": "code",
   "execution_count": 56,
   "id": "8ea8ab69",
   "metadata": {},
   "outputs": [],
   "source": [
    "today = datetime.date.today()"
   ]
  },
  {
   "cell_type": "code",
   "execution_count": 61,
   "id": "3fd2d14a",
   "metadata": {},
   "outputs": [],
   "source": [
    "header = ['title', 'price', 'date']\n",
    "\n",
    "data = [title, price, today]\n",
    "\n",
    "with open('Amazon_Web_Scrape_Dataset02.csv', 'w', newline = '', encoding = 'UTF8') as f:\n",
    "    writer = csv.writer(f)\n",
    "    writer.writerow(header)\n",
    "    writer.writerow(data)"
   ]
  },
  {
   "cell_type": "code",
   "execution_count": 62,
   "id": "6fcfdc5a",
   "metadata": {},
   "outputs": [
    {
     "name": "stdout",
     "output_type": "stream",
     "text": [
      "                                               title  \\\n",
      "0  Donald Duck Angry Grumpy This Is My Happy Face...   \n",
      "\n",
      "                             price        date  \n",
      "0  Price:$12.24$12.24-$15.55$15.55  2022-12-28  \n"
     ]
    }
   ],
   "source": [
    "df = pd.read_csv(r'C:\\Users\\crazy scientist\\Amazon_Web_Scrape_Dataset02.csv')\n",
    "\n",
    "print(df)"
   ]
  },
  {
   "cell_type": "code",
   "execution_count": null,
   "id": "1833b0d9",
   "metadata": {},
   "outputs": [],
   "source": [
    "\n",
    "with open('Amazon_Web_Scrape_Dataset02.csv', 'a+', newline = '', encoding = 'UTF8') as f:\n",
    "    writer = csv.writer(f)\n",
    "    writer.writerow(data)"
   ]
  },
  {
   "cell_type": "code",
   "execution_count": 63,
   "id": "c74b279f",
   "metadata": {},
   "outputs": [],
   "source": [
    "\n",
    "def check_price():\n",
    "    URL = \"https://www.amazon.com/Disney-Donald-T-Shirt-Heather-Large/dp/B07G4N6PPJ/ref=sr_1_7?crid=2CNRR17G9C8BY&keywords=t-shirts%2Bgraphic&qid=1672226537&sprefix=t-shirt%2Caps%2C627&sr=8-7&th=1\"\n",
    "\n",
    "    headers = {\"User-Agent\": \"Mozilla/5.0 (Windows NT 10.0; Win64; x64) AppleWebKit/537.36 (KHTML, like Gecko) Chrome/108.0.0.0 Safari/537.36\", \"Accept-Encoding\": \"gzip, deflate, br\", \"Accept\": \"text/html,application/xhtml+xml,application/xml;q=0.9,image/avif,image/webp,image/apng,*/*;q=0.8,application/signed-exchange;v=b3;q=0.9\",\"DNT\":\"1\", \"Connection\":\"close\", \"Upgrade-Insecure-Requests\":\"1\"}\n",
    "\n",
    "    page = requests.get(URL, headers = headers)\n",
    "\n",
    "    soup1 = BeautifulSoup(page.content, \"html.parser\")\n",
    "\n",
    "    soup2 = BeautifulSoup(soup1.prettify(), \"html.parser\")\n",
    "\n",
    "    title = soup2.find(id = \"productTitle\").get_text()\n",
    "\n",
    "    price = soup2.find(id = \"corePrice_desktop\").get_text()\n",
    "\n",
    "    def remove(string):\n",
    "        return \"\".join(string.split())\n",
    "      \n",
    "    price = (remove(price))\n",
    "\n",
    "    title = title.strip()\n",
    "    \n",
    "    today = datetime.date.today()\n",
    "    \n",
    "    header = ['title', 'price', 'date']\n",
    "\n",
    "    data = [title, price, today]\n",
    "    \n",
    "    with open('Amazon_Web_Scrape_Dataset02.csv', 'a+', newline = '', encoding = 'UTF8') as f:\n",
    "        writer = csv.writer(f)\n",
    "        writer.writerow(data)"
   ]
  },
  {
   "cell_type": "code",
   "execution_count": null,
   "id": "1d9e6743",
   "metadata": {},
   "outputs": [],
   "source": [
    "while(True):\n",
    "    check_price()\n",
    "    time.sleep(86400)"
   ]
  },
  {
   "cell_type": "code",
   "execution_count": null,
   "id": "1ec1bdd7",
   "metadata": {},
   "outputs": [],
   "source": []
  },
  {
   "cell_type": "code",
   "execution_count": null,
   "id": "d85cdeca",
   "metadata": {},
   "outputs": [],
   "source": []
  }
 ],
 "metadata": {
  "kernelspec": {
   "display_name": "Python 3 (ipykernel)",
   "language": "python",
   "name": "python3"
  },
  "language_info": {
   "codemirror_mode": {
    "name": "ipython",
    "version": 3
   },
   "file_extension": ".py",
   "mimetype": "text/x-python",
   "name": "python",
   "nbconvert_exporter": "python",
   "pygments_lexer": "ipython3",
   "version": "3.9.13"
  }
 },
 "nbformat": 4,
 "nbformat_minor": 5
}
